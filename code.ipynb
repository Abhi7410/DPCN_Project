{
 "cells": [
  {
   "cell_type": "code",
   "execution_count": 1,
   "metadata": {},
   "outputs": [
    {
     "name": "stdout",
     "output_type": "stream",
     "text": [
      "Requirement already satisfied: h5py in /home/abhishek/.local/lib/python3.8/site-packages (3.8.0)\n",
      "Requirement already satisfied: numpy>=1.14.5 in /home/abhishek/.local/lib/python3.8/site-packages (from h5py) (1.22.3)\n"
     ]
    }
   ],
   "source": [
    "!pip3 install h5py"
   ]
  },
  {
   "cell_type": "code",
   "execution_count": 48,
   "metadata": {},
   "outputs": [
    {
     "name": "stdout",
     "output_type": "stream",
     "text": [
      "Keys: <KeysViewHDF5 ['EEG']>\n",
      "Keys: <KeysViewHDF5 ['EEG']>\n",
      "Keys: <KeysViewHDF5 ['EEG']>\n"
     ]
    }
   ],
   "source": [
    "import h5py\n",
    "import numpy as np\n",
    "\n",
    "def openFile(filename):\n",
    "    with h5py.File(filename, 'r') as f:\n",
    "        print(\"Keys: %s\" % f.keys())\n",
    "        a_group_key = list(f.keys())[0]\n",
    "        data = list(f[a_group_key])\n",
    "        axis0_data = list(f[a_group_key]['axis0'])\n",
    "        axis1_data = list(f[a_group_key]['axis1'])\n",
    "        block0_items = list(f[a_group_key]['block0_items'])\n",
    "        block0_values = list(f[a_group_key]['block0_values'])\n",
    "        separate_arrays = [np.array(array) for array in block0_values]\n",
    "        \n",
    "        return {\n",
    "            'data': data,\n",
    "            'axis0_data': axis0_data,\n",
    "            'axis1_data': axis1_data,\n",
    "            'block0_items': block0_items,\n",
    "            'block0_values': separate_arrays\n",
    "        }\n",
    "    \n",
    "    \n",
    "data1 = openFile('Data/uni_111.h5')\n",
    "data2 = openFile('Data/uni_112.h5')\n",
    "data3 = openFile('Data/uni_113.h5')"
   ]
  },
  {
   "cell_type": "code",
   "execution_count": 59,
   "metadata": {},
   "outputs": [
    {
     "name": "stdout",
     "output_type": "stream",
     "text": [
      "There are 44 electrode planes from which data is collected\n",
      "With frequency of 200 signals in a seconnd, the data is collected in 7.90 minutes or 474 seconds\n",
      "-----------------------------------------------------\n",
      "There are 44 electrode planes from which data is collected\n",
      "With frequency of 200 signals in a seconnd, the data is collected in 8.43 minutes or 506 seconds\n",
      "-----------------------------------------------------\n",
      "There are 44 electrode planes from which data is collected\n",
      "With frequency of 200 signals in a seconnd, the data is collected in 9.13 minutes or 548 seconds\n",
      "-----------------------------------------------------\n"
     ]
    }
   ],
   "source": [
    "def dataAnalysis(data):\n",
    "    print(\"There are %d electrode planes from which data is collected\" % len(data['axis0_data']))\n",
    "    print(\"With frequency of 200 signals in a seconnd, the data is collected in %.2f minutes or %d seconds\" % (len(data['axis1_data'])/60/200, len(data['axis1_data'])/200))\n",
    "    print(\"-----------------------------------------------------\")\n",
    "\n",
    "dataAnalysis(data1)\n",
    "dataAnalysis(data2)\n",
    "dataAnalysis(data3)\n",
    "       "
   ]
  },
  {
   "cell_type": "code",
   "execution_count": 49,
   "metadata": {},
   "outputs": [
    {
     "name": "stdout",
     "output_type": "stream",
     "text": [
      "109600\n"
     ]
    }
   ],
   "source": [
    "print(len(data3['axis1_data']))"
   ]
  }
 ],
 "metadata": {
  "kernelspec": {
   "display_name": "Python 3",
   "language": "python",
   "name": "python3"
  },
  "language_info": {
   "codemirror_mode": {
    "name": "ipython",
    "version": 3
   },
   "file_extension": ".py",
   "mimetype": "text/x-python",
   "name": "python",
   "nbconvert_exporter": "python",
   "pygments_lexer": "ipython3",
   "version": "3.8.10"
  },
  "orig_nbformat": 4
 },
 "nbformat": 4,
 "nbformat_minor": 2
}
